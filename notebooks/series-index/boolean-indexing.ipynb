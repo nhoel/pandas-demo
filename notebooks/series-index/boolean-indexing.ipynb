{
 "cells": [
  {
   "cell_type": "code",
   "id": "03eb85a5-576c-4dd3-a437-de03b1823a84",
   "metadata": {
    "ExecuteTime": {
     "end_time": "2025-07-17T03:45:37.138574Z",
     "start_time": "2025-07-17T03:45:37.136227Z"
    }
   },
   "source": [
    "import pandas as pd"
   ],
   "outputs": [],
   "execution_count": 9
  },
  {
   "cell_type": "code",
   "id": "78c494ca-ce35-4adb-b3b4-4cf59133afa3",
   "metadata": {
    "ExecuteTime": {
     "end_time": "2025-07-17T03:45:37.148749Z",
     "start_time": "2025-07-17T03:45:37.146748Z"
    }
   },
   "source": [
    "data = {'Population': [8.5, 3.9, 2.3, 1.6, 2.7, 1.5, 1.4, 1.6,]}\n",
    "\n",
    "custom_index = ['New York', 'Los Angeles', 'Houston', 'Phoenx', 'Chicago', 'San Antonio', 'San Diego', 'Philadelphia']"
   ],
   "outputs": [],
   "execution_count": 10
  },
  {
   "cell_type": "code",
   "id": "ecc7e51b-b23b-4e71-83fc-35215e2f78d9",
   "metadata": {
    "ExecuteTime": {
     "end_time": "2025-07-17T03:45:37.170396Z",
     "start_time": "2025-07-17T03:45:37.167566Z"
    }
   },
   "source": [
    "s = pd.Series(data['Population'], index = custom_index)\n",
    "s"
   ],
   "outputs": [
    {
     "data": {
      "text/plain": [
       "New York        8.5\n",
       "Los Angeles     3.9\n",
       "Houston         2.3\n",
       "Phoenx          1.6\n",
       "Chicago         2.7\n",
       "San Antonio     1.5\n",
       "San Diego       1.4\n",
       "Philadelphia    1.6\n",
       "dtype: float64"
      ]
     },
     "execution_count": 11,
     "metadata": {},
     "output_type": "execute_result"
    }
   ],
   "execution_count": 11
  },
  {
   "cell_type": "code",
   "id": "57564e66-af32-4960-83ab-0b9a2cfd5f0c",
   "metadata": {
    "ExecuteTime": {
     "end_time": "2025-07-17T03:45:37.219419Z",
     "start_time": "2025-07-17T03:45:37.216921Z"
    }
   },
   "source": [
    "selection_criteria = (s < 5) & (s > 2)\n",
    "result_series = s[selection_criteria]\n",
    "result_series"
   ],
   "outputs": [
    {
     "data": {
      "text/plain": [
       "Los Angeles    3.9\n",
       "Houston        2.3\n",
       "Chicago        2.7\n",
       "dtype: float64"
      ]
     },
     "execution_count": 12,
     "metadata": {},
     "output_type": "execute_result"
    }
   ],
   "execution_count": 12
  }
 ],
 "metadata": {
  "kernelspec": {
   "display_name": "Python 3 (ipykernel)",
   "language": "python",
   "name": "python3"
  },
  "language_info": {
   "codemirror_mode": {
    "name": "ipython",
    "version": 3
   },
   "file_extension": ".py",
   "mimetype": "text/x-python",
   "name": "python",
   "nbconvert_exporter": "python",
   "pygments_lexer": "ipython3",
   "version": "3.12.7"
  }
 },
 "nbformat": 4,
 "nbformat_minor": 5
}
