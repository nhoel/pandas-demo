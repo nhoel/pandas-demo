{
 "cells": [
  {
   "cell_type": "code",
   "id": "initial_id",
   "metadata": {
    "collapsed": true,
    "ExecuteTime": {
     "end_time": "2025-07-17T03:49:41.240517Z",
     "start_time": "2025-07-17T03:49:41.083805Z"
    }
   },
   "source": "import pandas as pd",
   "outputs": [],
   "execution_count": 3
  },
  {
   "metadata": {
    "ExecuteTime": {
     "end_time": "2025-07-17T03:49:52.054245Z",
     "start_time": "2025-07-17T03:49:52.051368Z"
    }
   },
   "cell_type": "code",
   "source": [
    "data = {'Population': [8.5, 3.9, 2.3, 1.6, 2.7, 1.5, 1.4, 1.6, ]}\n",
    "\n",
    "custom_index = ['New York', 'Los Angeles', 'Houston', 'Phoenx', 'Chicago', 'San Antonio', 'San Diego', 'Philadelphia']\n"
   ],
   "id": "2a30765093fc676",
   "outputs": [],
   "execution_count": 7
  },
  {
   "metadata": {
    "ExecuteTime": {
     "end_time": "2025-07-17T03:50:20.372563Z",
     "start_time": "2025-07-17T03:50:20.368154Z"
    }
   },
   "cell_type": "code",
   "source": [
    "s = pd.Series(data['Population'], index=custom_index)\n",
    "s"
   ],
   "id": "ebe9de0a109a05b8",
   "outputs": [
    {
     "data": {
      "text/plain": [
       "New York        8.5\n",
       "Los Angeles     3.9\n",
       "Houston         2.3\n",
       "Phoenx          1.6\n",
       "Chicago         2.7\n",
       "San Antonio     1.5\n",
       "San Diego       1.4\n",
       "Philadelphia    1.6\n",
       "dtype: float64"
      ]
     },
     "execution_count": 9,
     "metadata": {},
     "output_type": "execute_result"
    }
   ],
   "execution_count": 9
  },
  {
   "metadata": {
    "ExecuteTime": {
     "end_time": "2025-07-17T03:51:45.185918Z",
     "start_time": "2025-07-17T03:51:45.181654Z"
    }
   },
   "cell_type": "code",
   "source": [
    "positional_slicing = s[1:4]\n",
    "positional_slicing"
   ],
   "id": "5a3349d7375266f0",
   "outputs": [
    {
     "data": {
      "text/plain": [
       "Los Angeles    3.9\n",
       "Houston        2.3\n",
       "Phoenx         1.6\n",
       "dtype: float64"
      ]
     },
     "execution_count": 10,
     "metadata": {},
     "output_type": "execute_result"
    }
   ],
   "execution_count": 10
  },
  {
   "metadata": {},
   "cell_type": "markdown",
   "source": "Label Based Index Slicing",
   "id": "e87f65473e2ea9ee"
  },
  {
   "metadata": {},
   "cell_type": "code",
   "outputs": [
    {
     "data": {
      "text/plain": [
       "Chicago         2.7\n",
       "San Antonio     1.5\n",
       "San Diego       1.4\n",
       "Philadelphia    1.6\n",
       "dtype: float64"
      ]
     },
     "execution_count": 11,
     "metadata": {},
     "output_type": "execute_result"
    }
   ],
   "execution_count": 11,
   "source": [
    "label_based_slicing = s['Chicago':'Philadelphia']\n",
    "label_based_slicing"
   ],
   "id": "9412519b264a6aa"
  },
  {
   "metadata": {},
   "cell_type": "markdown",
   "source": "Step Slicing",
   "id": "ed565c8acd713b3a"
  },
  {
   "metadata": {},
   "cell_type": "code",
   "outputs": [
    {
     "data": {
      "text/plain": [
       "New York    8.5\n",
       "Houston     2.3\n",
       "Chicago     2.7\n",
       "dtype: float64"
      ]
     },
     "execution_count": 12,
     "metadata": {},
     "output_type": "execute_result"
    }
   ],
   "execution_count": 12,
   "source": [
    "step_slicing = s['New York':'San Antonio': 2]\n",
    "step_slicing"
   ],
   "id": "dd47fad3a4245430"
  }
 ],
 "metadata": {
  "kernelspec": {
   "display_name": "Python 3",
   "language": "python",
   "name": "python3"
  },
  "language_info": {
   "codemirror_mode": {
    "name": "ipython",
    "version": 2
   },
   "file_extension": ".py",
   "mimetype": "text/x-python",
   "name": "python",
   "nbconvert_exporter": "python",
   "pygments_lexer": "ipython2",
   "version": "2.7.6"
  }
 },
 "nbformat": 4,
 "nbformat_minor": 5
}
