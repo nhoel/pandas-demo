{
 "cells": [
  {
   "cell_type": "code",
   "execution_count": 1,
   "id": "2aca29d3-6e6f-4c05-b9cc-e3ff80aed4c4",
   "metadata": {},
   "outputs": [],
   "source": [
    "import pandas as pd"
   ]
  },
  {
   "cell_type": "code",
   "execution_count": 3,
   "id": "1bee3d8c-2b00-45ca-8ff6-cb83b50a162f",
   "metadata": {},
   "outputs": [],
   "source": [
    "index = [('CA', 2000), ('CA', 2010), ('CA', 2020),\n",
    "         ('TX', 2000), ('TX', 2010), ('TX', 2020),\n",
    "         ('FL', 2000), ('FL', 2010), ('FL', 2020)]\n",
    "\n",
    "populations = [34, 37, 40, 21, 25, 30, 16, 19, 22]"
   ]
  },
  {
   "cell_type": "code",
   "execution_count": 4,
   "id": "80f6e567-6a02-48c3-a3d5-29e9338af006",
   "metadata": {},
   "outputs": [
    {
     "data": {
      "text/plain": [
       "(CA, 2000)    34\n",
       "(CA, 2010)    37\n",
       "(CA, 2020)    40\n",
       "(TX, 2000)    21\n",
       "(TX, 2010)    25\n",
       "(TX, 2020)    30\n",
       "(FL, 2000)    16\n",
       "(FL, 2010)    19\n",
       "(FL, 2020)    22\n",
       "dtype: int64"
      ]
     },
     "execution_count": 4,
     "metadata": {},
     "output_type": "execute_result"
    }
   ],
   "source": [
    "s = pd.Series(populations, index = index)\n",
    "s"
   ]
  },
  {
   "cell_type": "code",
   "execution_count": 5,
   "id": "758281fa-2399-4b04-af84-3ed13c2067ae",
   "metadata": {},
   "outputs": [
    {
     "data": {
      "text/plain": [
       "CA  2000    34\n",
       "    2010    37\n",
       "    2020    40\n",
       "TX  2000    21\n",
       "    2010    25\n",
       "    2020    30\n",
       "FL  2000    16\n",
       "    2010    19\n",
       "    2020    22\n",
       "dtype: int64"
      ]
     },
     "execution_count": 5,
     "metadata": {},
     "output_type": "execute_result"
    }
   ],
   "source": [
    "multi_index = pd.MultiIndex.from_tuples(index)\n",
    "s2 = pd.Series(populations, index = multi_index)\n",
    "s2"
   ]
  },
  {
   "cell_type": "code",
   "execution_count": 7,
   "id": "4965e6e8-5d87-4306-b37b-f2fc235c1a29",
   "metadata": {},
   "outputs": [
    {
     "name": "stdout",
     "output_type": "stream",
     "text": [
      "2000    34\n",
      "2010    37\n",
      "2020    40\n",
      "dtype: int64\n"
     ]
    }
   ],
   "source": [
    "print (s2.loc['CA'])"
   ]
  },
  {
   "cell_type": "code",
   "execution_count": 8,
   "id": "67ce6412-c593-445a-b85b-ee08d8ffc1e9",
   "metadata": {},
   "outputs": [
    {
     "name": "stdout",
     "output_type": "stream",
     "text": [
      "CA    37\n",
      "TX    25\n",
      "FL    19\n",
      "dtype: int64\n"
     ]
    }
   ],
   "source": [
    "print(s2.loc[:, 2010])"
   ]
  }
 ],
 "metadata": {
  "kernelspec": {
   "display_name": "Python 3 (ipykernel)",
   "language": "python",
   "name": "python3"
  },
  "language_info": {
   "codemirror_mode": {
    "name": "ipython",
    "version": 3
   },
   "file_extension": ".py",
   "mimetype": "text/x-python",
   "name": "python",
   "nbconvert_exporter": "python",
   "pygments_lexer": "ipython3",
   "version": "3.12.7"
  }
 },
 "nbformat": 4,
 "nbformat_minor": 5
}
