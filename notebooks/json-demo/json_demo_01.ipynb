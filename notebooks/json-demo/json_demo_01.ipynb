{
 "cells": [
  {
   "cell_type": "code",
   "execution_count": 1,
   "id": "298168da-fb28-474a-a1d9-955ac13f7e21",
   "metadata": {},
   "outputs": [
    {
     "data": {
      "text/plain": [
       "[{'Column 1': 1, 'Column 2': 2},\n",
       " {'Column 1': 3, 'Column 2': 4},\n",
       " {'Column 1': 5, 'Column 2': 6}]"
      ]
     },
     "execution_count": 1,
     "metadata": {},
     "output_type": "execute_result"
    }
   ],
   "source": [
    "import json\n",
    "\n",
    "f = open(\"../../data/test01/example-1.json\")\n",
    "\n",
    "data = json.load(f)\n",
    "\n",
    "data"
   ]
  },
  {
   "cell_type": "code",
   "execution_count": null,
   "id": "6b69b3c3-c873-481e-9924-bd6744d90158",
   "metadata": {},
   "outputs": [],
   "source": [
    "import csv\n",
    "\n",
    "with opn(\"../../data/test01/example-1.csv\", mode=\"r\") as csv_file:\n",
    "    csv_reader = csv.DictReader(csv_file)\n",
    "    "
   ]
  },
  {
   "cell_type": "code",
   "execution_count": null,
   "id": "cd369868-547e-4dba-a5f8-ac3051aeadf7",
   "metadata": {},
   "outputs": [],
   "source": []
  }
 ],
 "metadata": {
  "kernelspec": {
   "display_name": "Python 3 (ipykernel)",
   "language": "python",
   "name": "python3"
  },
  "language_info": {
   "codemirror_mode": {
    "name": "ipython",
    "version": 3
   },
   "file_extension": ".py",
   "mimetype": "text/x-python",
   "name": "python",
   "nbconvert_exporter": "python",
   "pygments_lexer": "ipython3",
   "version": "3.12.11"
  }
 },
 "nbformat": 4,
 "nbformat_minor": 5
}
